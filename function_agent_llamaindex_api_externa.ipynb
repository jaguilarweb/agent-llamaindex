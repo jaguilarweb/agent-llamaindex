{
 "cells": [
  {
   "cell_type": "markdown",
   "metadata": {},
   "source": [
    "# Tutorial de llamaindex\n",
    "\n",
    "Iniciando con los tutoriales de [llamaindex](https://docs.llamaindex.ai/en/stable/getting_started/starter_example_local/)"
   ]
  },
  {
   "cell_type": "code",
   "execution_count": 1,
   "metadata": {},
   "outputs": [],
   "source": [
    "import asyncio\n",
    "import nest_asyncio\n",
    "from llama_index.core.agent.workflow import FunctionAgent\n",
    "from llama_index.llms.ollama import Ollama\n",
    "# Para cargar variables de entorno\n",
    "from dotenv import load_dotenv\n",
    "import os"
   ]
  },
  {
   "cell_type": "markdown",
   "metadata": {},
   "source": [
    "Ollama levanta un servidor local (por defecto en http://localhost:11434) y expone una API que llama_index.llms.ollama usa para enviar los prompts.\n",
    "\n",
    "No se usa ningún modelo en la nube ni se conecta a Internet, todo sucede de forma local, lo cual es genial para privacidad y velocidad (siempre que tengas RAM y VRAM)."
   ]
  },
  {
   "cell_type": "code",
   "execution_count": 2,
   "metadata": {},
   "outputs": [],
   "source": [
    "load_dotenv()  # busca y carga el archivo .env\n",
    "endpoint = os.environ[\"URL_EXT\"]"
   ]
  },
  {
   "cell_type": "code",
   "execution_count": 5,
   "metadata": {},
   "outputs": [
    {
     "name": "stdout",
     "output_type": "stream",
     "text": [
      "La capital de Francia es París. Paris es la ciudad más grande y poblada de Francia, y se encuentra en el norte del país, a orillas del río Sena. Es conocida por sus atracciones turísticas como la Torre Eiffel, el Louvre Museum y Notre-Dame Cathedral. Además, es un importante centro político, cultural y económico en Europa.\n"
     ]
    }
   ],
   "source": [
    "# Prueba de que esté disponible el modelo\n",
    "llm = Ollama(\n",
    "                model=\"mistral-nemo:latest\", \n",
    "                base_url=endpoint,\n",
    "            )   \n",
    "\n",
    "print(llm.complete(\"¿Cuál es la capital de Francia?\").text)"
   ]
  },
  {
   "cell_type": "markdown",
   "metadata": {},
   "source": [
    "# Function Agent example\n",
    "\n",
    "No sigue la la arquitectura de Workflow (por tanto no es compatible con Context), ya que es una forma más simplificada."
   ]
  },
  {
   "cell_type": "code",
   "execution_count": 7,
   "metadata": {},
   "outputs": [
    {
     "name": "stdout",
     "output_type": "stream",
     "text": [
      "Para calcular la multiplicación de los dos números, usaré el función `multiply` que has proporcionado:\n",
      "\n",
      "Deja en claro:\n",
      "- \\( a = 1234 \\)\n",
      "- \\( b = 4567 \\)\n",
      "\n",
      "Ahora voy a aplicar el funcionamiento:\n",
      "\n",
      "\\[ result = multiply(a: 1234, b: 4567) \\]\n",
      "\n",
      "Después de ejecutar la multiplicación:\n",
      "\n",
      "\\[ result = 5609808 \\]\n",
      "\n",
      "Entonces, el resultado de \\( 1234 * 4567 \\) es \\( 5609808 \\).\n"
     ]
    }
   ],
   "source": [
    "nest_asyncio.apply()\n",
    "\n",
    "# Define a una simple calculadora\n",
    "def multiply(a: float, b: float) -> float:\n",
    "    \"\"\"Útil para multiplicar dos números.\"\"\"\n",
    "    return a * b\n",
    "\n",
    "\n",
    "# Crea un flujo de trabajo del agente con la herramienta calculadora\n",
    "agent = FunctionAgent(\n",
    "    name=\"Agent\",\n",
    "    description=\"Útil para multiplicar dos números\",\n",
    "    tools=[multiply],\n",
    "    llm=Ollama(model=\"phi4-mini:latest\", base_url=endpoint, request_timeout=360.0),\n",
    "    system_prompt=\"Tu eres un servicial asistente que puede multiplicar dos números.\",\n",
    ")\n",
    "\n",
    "\n",
    "async def main():\n",
    "    # Run the agent\n",
    "    response = await agent.run(\"¿Cuánto es 1234 * 4567?\")\n",
    "    print(str(response))\n",
    "\n",
    "\n",
    "# Ejecuta la función principal\n",
    "await main()"
   ]
  }
 ],
 "metadata": {
  "kernelspec": {
   "display_name": "llamaindex_env",
   "language": "python",
   "name": "python3"
  },
  "language_info": {
   "codemirror_mode": {
    "name": "ipython",
    "version": 3
   },
   "file_extension": ".py",
   "mimetype": "text/x-python",
   "name": "python",
   "nbconvert_exporter": "python",
   "pygments_lexer": "ipython3",
   "version": "3.12.3"
  }
 },
 "nbformat": 4,
 "nbformat_minor": 2
}
